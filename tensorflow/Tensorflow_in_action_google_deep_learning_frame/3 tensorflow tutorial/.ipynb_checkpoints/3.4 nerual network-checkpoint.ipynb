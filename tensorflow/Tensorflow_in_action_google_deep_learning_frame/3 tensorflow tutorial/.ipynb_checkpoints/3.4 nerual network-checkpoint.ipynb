{
 "cells": [
  {
   "cell_type": "code",
   "execution_count": 1,
   "metadata": {},
   "outputs": [
    {
     "name": "stderr",
     "output_type": "stream",
     "text": [
      "/home/jasonhaven/anaconda3/lib/python3.6/site-packages/h5py/__init__.py:36: FutureWarning: Conversion of the second argument of issubdtype from `float` to `np.floating` is deprecated. In future, it will be treated as `np.float64 == np.dtype(float).type`.\n",
      "  from ._conv import register_converters as _register_converters\n"
     ]
    }
   ],
   "source": [
    "import tensorflow as tf"
   ]
  },
  {
   "cell_type": "code",
   "execution_count": 13,
   "metadata": {},
   "outputs": [
    {
     "data": {
      "text/plain": [
       "<tf.Tensor 'random_normal_6:0' shape=(2, 3) dtype=float32>"
      ]
     },
     "execution_count": 13,
     "metadata": {},
     "output_type": "execute_result"
    }
   ],
   "source": [
    "tf.random_normal([2,3],mean=0,stddev=2)"
   ]
  },
  {
   "cell_type": "code",
   "execution_count": 14,
   "metadata": {},
   "outputs": [],
   "source": [
    "weights=tf.Variable(tf.random_normal(shape=[2,3],stddev=2))"
   ]
  },
  {
   "cell_type": "code",
   "execution_count": 15,
   "metadata": {},
   "outputs": [],
   "source": [
    "biases=tf.Variable(tf.zeros(shape=[3]))"
   ]
  },
  {
   "cell_type": "code",
   "execution_count": 26,
   "metadata": {},
   "outputs": [
    {
     "name": "stdout",
     "output_type": "stream",
     "text": [
      "[[3.957578]]\n"
     ]
    }
   ],
   "source": [
    "#forward propogation\n",
    "\n",
    "import tensorflow as tf\n",
    "\n",
    "w1=tf.Variable(tf.random_normal(shape=[2,3],stddev=1,seed=1))\n",
    "w2=tf.Variable(tf.random_normal(shape=[3,1],stddev=1,seed=1))\n",
    "\n",
    "x=tf.constant([0.7,0.9],shape=[1,2])\n",
    "\n",
    "a=tf.matmul(x,w1)\n",
    "y=tf.matmul(a,w2)\n",
    "\n",
    "with tf.Session() as sess:\n",
    "    sess.run(w1.initializer)\n",
    "    sess.run(w2.initializer)\n",
    "    print(sess.run(y))"
   ]
  },
  {
   "cell_type": "code",
   "execution_count": 28,
   "metadata": {},
   "outputs": [
    {
     "name": "stdout",
     "output_type": "stream",
     "text": [
      "[[3.957578]]\n"
     ]
    }
   ],
   "source": [
    "#forward propogation\n",
    "\n",
    "import tensorflow as tf\n",
    "\n",
    "w1=tf.Variable(tf.random_normal(shape=[2,3],stddev=1,seed=1))\n",
    "w2=tf.Variable(tf.random_normal(shape=[3,1],stddev=1,seed=1))\n",
    "\n",
    "x=tf.constant([0.7,0.9],shape=[1,2])\n",
    "\n",
    "a=tf.matmul(x,w1)\n",
    "y=tf.matmul(a,w2)\n",
    "\n",
    "with tf.Session() as sess:\n",
    "    init_op=tf.global_variables_initializer()\n",
    "    sess.run(init_op)\n",
    "    print(sess.run(y))"
   ]
  },
  {
   "cell_type": "code",
   "execution_count": 38,
   "metadata": {},
   "outputs": [
    {
     "name": "stdout",
     "output_type": "stream",
     "text": [
      "[[3.957578]]\n"
     ]
    }
   ],
   "source": [
    "#forward propogation\n",
    "\n",
    "import tensorflow as tf\n",
    "\n",
    "w1=tf.Variable(tf.random_normal(shape=[2,3],stddev=1,seed=1))\n",
    "w2=tf.Variable(tf.random_normal(shape=[3,1],stddev=1,seed=1))\n",
    "\n",
    "x=tf.placeholder(dtype=tf.float32,shape=(1,2),name='input')\n",
    "\n",
    "a=tf.matmul(x,w1)\n",
    "y=tf.matmul(a,w2)\n",
    "\n",
    "with tf.Session() as sess:\n",
    "    init_op=tf.global_variables_initializer()\n",
    "    sess.run(init_op)\n",
    "    print(sess.run(y,feed_dict={x:[[0.7,0.9]]}))"
   ]
  },
  {
   "cell_type": "code",
   "execution_count": 39,
   "metadata": {},
   "outputs": [
    {
     "name": "stdout",
     "output_type": "stream",
     "text": [
      "[[3.957578 ]\n",
      " [3.3842702]\n",
      " [3.0904665]]\n"
     ]
    }
   ],
   "source": [
    "#forward propogation batch\n",
    "\n",
    "import tensorflow as tf\n",
    "\n",
    "w1=tf.Variable(tf.random_normal(shape=[2,3],stddev=1,seed=1))\n",
    "w2=tf.Variable(tf.random_normal(shape=[3,1],stddev=1,seed=1))\n",
    "\n",
    "x=tf.placeholder(dtype=tf.float32,shape=(3,2),name='input')#batch\n",
    "\n",
    "a=tf.matmul(x,w1)\n",
    "y=tf.matmul(a,w2)\n",
    "\n",
    "with tf.Session() as sess:\n",
    "    init_op=tf.global_variables_initializer()\n",
    "    sess.run(init_op)\n",
    "    print(sess.run(y,feed_dict={x:[[0.7,0.9],[0.5,0.9],[0.7,0.5]]}))"
   ]
  },
  {
   "cell_type": "code",
   "execution_count": 41,
   "metadata": {},
   "outputs": [
    {
     "data": {
      "text/plain": [
       "'\\ncross_entropy = -tf.reduce_mean(y_*tf.log(tf.clip_by_value(y,1e-10,1.0)))\\n\\nlearning_rate = 0.001\\n\\ntrain_step = tf.train.AdamOptimizer(learning_rate=learning_rate).minimize(cross_entropy)\\n'"
      ]
     },
     "execution_count": 41,
     "metadata": {},
     "output_type": "execute_result"
    }
   ],
   "source": [
    "# coss function\n",
    "'''\n",
    "cross_entropy = -tf.reduce_mean(y_*tf.log(tf.clip_by_value(y,1e-10,1.0)))\n",
    "\n",
    "learning_rate = 0.001\n",
    "\n",
    "train_step = tf.train.AdamOptimizer(learning_rate=learning_rate).minimize(cross_entropy)\n",
    "'''"
   ]
  },
  {
   "cell_type": "code",
   "execution_count": 42,
   "metadata": {},
   "outputs": [],
   "source": [
    "from numpy.random import RandomState"
   ]
  },
  {
   "cell_type": "code",
   "execution_count": 64,
   "metadata": {},
   "outputs": [],
   "source": [
    "rdm=RandomState(1)"
   ]
  },
  {
   "cell_type": "code",
   "execution_count": 65,
   "metadata": {},
   "outputs": [],
   "source": [
    "X=rdm.rand(5,2)"
   ]
  },
  {
   "cell_type": "code",
   "execution_count": 66,
   "metadata": {},
   "outputs": [],
   "source": [
    "Y=[[int(x1+x2<1)] for (x1,x2) in X]"
   ]
  },
  {
   "cell_type": "code",
   "execution_count": 67,
   "metadata": {},
   "outputs": [
    {
     "data": {
      "text/plain": [
       "[[0], [1], [1], [1], [1]]"
      ]
     },
     "execution_count": 67,
     "metadata": {},
     "output_type": "execute_result"
    }
   ],
   "source": [
    "Y"
   ]
  },
  {
   "cell_type": "code",
   "execution_count": 58,
   "metadata": {},
   "outputs": [
    {
     "data": {
      "text/plain": [
       "array([[0.4173048 , 0.55868983],\n",
       "       [0.14038694, 0.19810149],\n",
       "       [0.80074457, 0.96826158],\n",
       "       [0.31342418, 0.69232262],\n",
       "       [0.87638915, 0.89460666]])"
      ]
     },
     "execution_count": 58,
     "metadata": {},
     "output_type": "execute_result"
    }
   ],
   "source": [
    "X"
   ]
  },
  {
   "cell_type": "code",
   "execution_count": 76,
   "metadata": {},
   "outputs": [
    {
     "name": "stdout",
     "output_type": "stream",
     "text": [
      "[[-0.8113182   1.4845988   0.06532937]\n",
      " [-2.4427042   0.0992484   0.5912243 ]]\n",
      "[[-0.8113182 ]\n",
      " [ 1.4845988 ]\n",
      " [ 0.06532937]]\n",
      "After 0 trainning step(s),cross_entropy on all data is 0.0677411\n",
      "After 1000 trainning step(s),cross_entropy on all data is 0.0676783\n",
      "After 2000 trainning step(s),cross_entropy on all data is 0.0676121\n",
      "After 3000 trainning step(s),cross_entropy on all data is 0.067546\n",
      "After 4000 trainning step(s),cross_entropy on all data is 0.0674799\n",
      "[[-0.81270415  1.485931    0.06668379]\n",
      " [-2.443958    0.10045876  0.5924246 ]]\n",
      "[[-0.8126457 ]\n",
      " [ 1.4860655 ]\n",
      " [ 0.06659038]]\n"
     ]
    }
   ],
   "source": [
    "# binary-classification with nn\n",
    "import tensorflow as tf\n",
    "\n",
    "from numpy.random import RandomState\n",
    "\n",
    "batch_size=8\n",
    "dataset_size=128\n",
    "STEPS=5000\n",
    "\n",
    "#define layers\n",
    "w1=tf.Variable(tf.random_normal(shape=[2,3],seed=1,stddev=1))\n",
    "w2=tf.Variable(tf.random_normal(shape=[3,1],seed=1,stddev=1))\n",
    "\n",
    "#define input\n",
    "x=tf.placeholder(tf.float32,shape=(None,2),name='x-input')\n",
    "y_=tf.placeholder(tf.float32,shape=(None,1),name='y-input')\n",
    "\n",
    "#generate random dataset\n",
    "rdm=RandomState(seed=2)\n",
    "X=rdm.rand(dataset_size,2)\n",
    "\n",
    "'''\n",
    "rule:x1+x2<1,y=0 ; x1+x2>1,y=1\n",
    "'''\n",
    "Y=[[int(x1+x2<1)] for (x1,x2) in X]\n",
    "\n",
    "\n",
    "#define forward-propogation\n",
    "a=tf.matmul(x,w1)\n",
    "y=tf.matmul(a,w2)\n",
    "\n",
    "#define coss function\n",
    "cross_entropy=-tf.reduce_mean(y_ * tf.log(tf.clip_by_value(y,1e-10,1.0)))\n",
    "\n",
    "#define backforward-propogation\n",
    "learning_rate=0.001\n",
    "train_step=tf.train.AdadeltaOptimizer(learning_rate).minimize(cross_entropy)\n",
    "\n",
    "\n",
    "#create session and train\n",
    "with tf.Session() as sess:\n",
    "    init_op=tf.global_variables_initializer()\n",
    "    sess.run(init_op)\n",
    "    \n",
    "    print(sess.run(w1))\n",
    "    print(sess.run(w2))\n",
    "    \n",
    "    '''\n",
    "    [[-0.8113182   1.4845988   0.06532937]\n",
    "     [-2.4427042   0.0992484   0.5912243 ]]\n",
    "    [[-0.8113182 ]\n",
    "     [ 1.4845988 ]\n",
    "     [ 0.06532937]]\n",
    "    '''\n",
    "    \n",
    "    for i in range(STEPS):\n",
    "        start=(i*batch_size)%dataset_size\n",
    "        end=min(start+batch_size,data_size)\n",
    "        \n",
    "        sess.run(train_step,feed_dict={x:X[start:end],y_:Y[start:end]})\n",
    "        \n",
    "        if i % 1000 == 0:\n",
    "            total_cross_entropy=sess.run(cross_entropy,feed_dict={x:X,y_:Y})\n",
    "            print('After %d trainning step(s),cross_entropy on all data is %g'%(i,total_cross_entropy))\n",
    "            \n",
    "            '''\n",
    "            After 0 trainning step(s),cross_entropy on all data is 0.0677412\n",
    "            After 1000 trainning step(s),cross_entropy on all data is 0.0677362\n",
    "            After 2000 trainning step(s),cross_entropy on all data is 0.0677311\n",
    "            After 3000 trainning step(s),cross_entropy on all data is 0.0677259\n",
    "            After 4000 trainning step(s),cross_entropy on all data is 0.0677207\n",
    "            '''\n",
    "            \n",
    "    print(sess.run(w1))\n",
    "    print(sess.run(w2))\n",
    "    \n",
    "    '''\n",
    "    [[-0.81146723  1.4846718   0.0654671 ]\n",
    "     [-2.4427042   0.0993684   0.5913538 ]]\n",
    "    [[-0.81144786]\n",
    "     [ 1.484672  ]\n",
    "     [ 0.06545771]]\n",
    "    '''"
   ]
  },
  {
   "cell_type": "code",
   "execution_count": null,
   "metadata": {},
   "outputs": [],
   "source": []
  },
  {
   "cell_type": "code",
   "execution_count": null,
   "metadata": {},
   "outputs": [],
   "source": []
  },
  {
   "cell_type": "code",
   "execution_count": null,
   "metadata": {},
   "outputs": [],
   "source": []
  }
 ],
 "metadata": {
  "kernelspec": {
   "display_name": "Python 3",
   "language": "python",
   "name": "python3"
  },
  "language_info": {
   "codemirror_mode": {
    "name": "ipython",
    "version": 3
   },
   "file_extension": ".py",
   "mimetype": "text/x-python",
   "name": "python",
   "nbconvert_exporter": "python",
   "pygments_lexer": "ipython3",
   "version": "3.6.5"
  }
 },
 "nbformat": 4,
 "nbformat_minor": 2
}
