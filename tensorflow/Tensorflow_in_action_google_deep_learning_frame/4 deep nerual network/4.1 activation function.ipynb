{
 "cells": [
  {
   "cell_type": "code",
   "execution_count": 2,
   "metadata": {},
   "outputs": [
    {
     "name": "stderr",
     "output_type": "stream",
     "text": [
      "/home/jasonhaven/anaconda3/lib/python3.6/site-packages/h5py/__init__.py:36: FutureWarning: Conversion of the second argument of issubdtype from `float` to `np.floating` is deprecated. In future, it will be treated as `np.float64 == np.dtype(float).type`.\n",
      "  from ._conv import register_converters as _register_converters\n"
     ]
    }
   ],
   "source": [
    "import tensorflow as tf"
   ]
  },
  {
   "cell_type": "code",
   "execution_count": 15,
   "metadata": {},
   "outputs": [
    {
     "name": "stdout",
     "output_type": "stream",
     "text": [
      "(1, 3)\n",
      "(1, 1)\n",
      "[[4.2631106]]\n"
     ]
    }
   ],
   "source": [
    "w1=tf.Variable(tf.random_normal(shape=[2,3],stddev=1,seed=1))\n",
    "w2=tf.Variable(tf.random_normal(shape=[3,1],stddev=1,seed=1))\n",
    "\n",
    "x=tf.constant([0.7,0.9],shape=[1,2])\n",
    "\n",
    "biases1=tf.constant([1.,1.,1.],shape=[1,3])\n",
    "biases2=tf.constant([1.])\n",
    "\n",
    "a=tf.nn.relu(tf.matmul(x,w1)+biases1)\n",
    "print(a.shape)\n",
    "y=tf.nn.relu(tf.matmul(a,w2)+biases2)\n",
    "print(y.shape)\n",
    "\n",
    "'''\n",
    "a=tf.nn.relu(tf.matmul(x,w1))\n",
    "y=tf.nn.relu(tf.matmul(a,w2))\n",
    "'''\n",
    "with tf.Session() as sess:\n",
    "    init_op=tf.global_variables_initializer()\n",
    "    sess.run(init_op)\n",
    "    print(sess.run(y))"
   ]
  },
  {
   "cell_type": "code",
   "execution_count": null,
   "metadata": {},
   "outputs": [],
   "source": []
  },
  {
   "cell_type": "code",
   "execution_count": null,
   "metadata": {},
   "outputs": [],
   "source": []
  }
 ],
 "metadata": {
  "kernelspec": {
   "display_name": "Python 3",
   "language": "python",
   "name": "python3"
  },
  "language_info": {
   "codemirror_mode": {
    "name": "ipython",
    "version": 3
   },
   "file_extension": ".py",
   "mimetype": "text/x-python",
   "name": "python",
   "nbconvert_exporter": "python",
   "pygments_lexer": "ipython3",
   "version": "3.6.5"
  }
 },
 "nbformat": 4,
 "nbformat_minor": 2
}
